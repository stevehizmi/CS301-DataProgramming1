{
 "cells": [
  {
   "cell_type": "code",
   "execution_count": 1,
   "metadata": {},
   "outputs": [],
   "source": [
    "# project: p6\n",
    "# submitter-netid: shizmi\n",
    "# partner-netid: none\n",
    "\n",
    "import csv\n",
    "\n",
    "# copied from https://automatetheboringstuff.com/chapter14/\n",
    "def process_csv(filename):\n",
    "    exampleFile = open(filename, encoding=\"utf-8\")\n",
    "    exampleReader = csv.reader(exampleFile)\n",
    "    exampleData = list(exampleReader)\n",
    "    return exampleData\n",
    "\n",
    "# use process_csv to pull out the header and data rows\n",
    "csv_rows = process_csv(\"wine.csv\")\n",
    "csv_header = csv_rows[0]\n",
    "csv_data = csv_rows[1:]"
   ]
  },
  {
   "cell_type": "code",
   "execution_count": 2,
   "metadata": {
    "scrolled": false
   },
   "outputs": [
    {
     "data": {
      "text/plain": [
       "['US',\n",
       " 'Spain',\n",
       " 'France',\n",
       " 'Italy',\n",
       " 'New Zealand',\n",
       " 'Bulgaria',\n",
       " 'Argentina',\n",
       " 'Australia',\n",
       " 'Portugal',\n",
       " 'Israel',\n",
       " 'South Africa',\n",
       " 'Greece',\n",
       " 'Chile',\n",
       " 'Morocco',\n",
       " 'Romania',\n",
       " 'Germany',\n",
       " 'Canada',\n",
       " 'Moldova',\n",
       " 'Hungary',\n",
       " 'Austria',\n",
       " 'Croatia',\n",
       " 'Slovenia',\n",
       " 'India']"
      ]
     },
     "execution_count": 2,
     "metadata": {},
     "output_type": "execute_result"
    }
   ],
   "source": [
    "#q1\n",
    "country_names = []\n",
    "for i in range(len(csv_data)):\n",
    "    j = csv_data[i][0]\n",
    "    if j not in country_names:\n",
    "        if j == '':\n",
    "            continue\n",
    "        country_names.append(j)\n",
    "country_names"
   ]
  },
  {
   "cell_type": "code",
   "execution_count": 3,
   "metadata": {},
   "outputs": [
    {
     "data": {
      "text/plain": [
       "39.40787623066104"
      ]
     },
     "execution_count": 3,
     "metadata": {},
     "output_type": "execute_result"
    }
   ],
   "source": [
    "#q2\n",
    "average = 0\n",
    "count = 0\n",
    "for i in range(len(csv_data)):\n",
    "    price = csv_data[i][2]\n",
    "    if price == '':\n",
    "        continue\n",
    "    average += float(price)\n",
    "    count += 1\n",
    "average / count"
   ]
  },
  {
   "cell_type": "code",
   "execution_count": 4,
   "metadata": {},
   "outputs": [
    {
     "data": {
      "text/plain": [
       "['Tinta de Toro',\n",
       " 'Tempranillo',\n",
       " 'Tempranillo Blend',\n",
       " 'Mencía',\n",
       " 'Palomino',\n",
       " 'Monastrell',\n",
       " 'Albariño',\n",
       " 'Sparkling Blend',\n",
       " 'Godello',\n",
       " 'Red Blend',\n",
       " 'White Blend',\n",
       " 'Sherry',\n",
       " 'Garnacha',\n",
       " 'Moscatel',\n",
       " 'Garnacha Blanca',\n",
       " 'Grenache-Syrah']"
      ]
     },
     "execution_count": 4,
     "metadata": {},
     "output_type": "execute_result"
    }
   ],
   "source": [
    "#q3\n",
    "spain_variety = []\n",
    "for i in range(len(csv_data)):\n",
    "    if csv_data[i][0] == 'Spain':\n",
    "        j = csv_data[i][3]\n",
    "        if j not in spain_variety:\n",
    "            if j == '':\n",
    "                continue\n",
    "            spain_variety.append(j)\n",
    "spain_variety"
   ]
  },
  {
   "cell_type": "code",
   "execution_count": 5,
   "metadata": {},
   "outputs": [
    {
     "data": {
      "text/plain": [
       "['Château Pégau',\n",
       " 'Hawk Watch Winery',\n",
       " 'Laird',\n",
       " 'MCV',\n",
       " 'Tetra',\n",
       " 'Beronia',\n",
       " 'Adelaida Cellars',\n",
       " 'Palmeri',\n",
       " 'Sevtap',\n",
       " 'Montes',\n",
       " 'Fess Parker',\n",
       " 'Andrew Murray',\n",
       " 'Clos La Chance']"
      ]
     },
     "execution_count": 5,
     "metadata": {},
     "output_type": "execute_result"
    }
   ],
   "source": [
    "#q4\n",
    "beef = []\n",
    "for i in range(len(csv_data)):\n",
    "    if 'beef' in csv_data[i][5].lower():\n",
    "        if csv_data[i][4] not in beef:\n",
    "            beef.append(csv_data[i][4])\n",
    "beef"
   ]
  },
  {
   "cell_type": "code",
   "execution_count": 6,
   "metadata": {},
   "outputs": [
    {
     "data": {
      "text/plain": [
       "['Santa Cruz Mountain Vineyard',\n",
       " 'Stephen Ross',\n",
       " 'Heron Hill',\n",
       " 'Fattoria di Magliano',\n",
       " 'Quinta Nova de Nossa Senhora do Carmo',\n",
       " 'Byron',\n",
       " 'Bürgermeister Willi Schweinhardt',\n",
       " 'MCV',\n",
       " 'Dr. H. Thanisch (Erben Thanisch)',\n",
       " 'Benoît Girard',\n",
       " 'Domaine Ostertag',\n",
       " 'Concha y Toro',\n",
       " 'Sheldrake Point',\n",
       " 'Domaine Collotte',\n",
       " 'Domaine Allimant-Laugner',\n",
       " 'Margerum',\n",
       " 'Brander']"
      ]
     },
     "execution_count": 6,
     "metadata": {},
     "output_type": "execute_result"
    }
   ],
   "source": [
    "#q5\n",
    "zesty = []\n",
    "for i in range(len(csv_data)):\n",
    "    if 'zesty' in csv_data[i][5].lower():\n",
    "        if csv_data[i][4] not in zesty:\n",
    "            zesty.append(csv_data[i][4])\n",
    "zesty"
   ]
  },
  {
   "cell_type": "code",
   "execution_count": 7,
   "metadata": {},
   "outputs": [
    {
     "data": {
      "text/plain": [
       "['Maurodos',\n",
       " 'Bodega Carmen Rodríguez',\n",
       " 'Val de Los Frailes',\n",
       " 'Matarromera',\n",
       " 'Palacio del Burgo']"
      ]
     },
     "execution_count": 7,
     "metadata": {},
     "output_type": "execute_result"
    }
   ],
   "source": [
    "#q6\n",
    "black_fruit = []\n",
    "for i in range(len(csv_data)):\n",
    "    if 'black-fruit aroma' in csv_data[i][5].lower():\n",
    "        if csv_data[i][4] not in black_fruit:\n",
    "            black_fruit.append(csv_data[i][4])\n",
    "black_fruit"
   ]
  },
  {
   "cell_type": "code",
   "execution_count": 8,
   "metadata": {},
   "outputs": [],
   "source": [
    "#anagramFunction\n",
    "\n",
    "def isAnagram(phrase):\n",
    "    wineries = []\n",
    "    for i in range(len(csv_data)):\n",
    "        if (sorted(phrase.lower().replace(\" \",\"\")) == sorted(csv_data[i][3].lower().replace(\" \",\"\"))):\n",
    "            if csv_data[i][3] not in wineries:\n",
    "                wineries.append(csv_data[i][3])\n",
    "    return wineries"
   ]
  },
  {
   "cell_type": "code",
   "execution_count": 9,
   "metadata": {},
   "outputs": [
    {
     "data": {
      "text/plain": [
       "['Cabernet Sauvignon']"
      ]
     },
     "execution_count": 9,
     "metadata": {},
     "output_type": "execute_result"
    }
   ],
   "source": [
    "#q7\n",
    "isAnagram('antibus governance')"
   ]
  },
  {
   "cell_type": "code",
   "execution_count": 10,
   "metadata": {},
   "outputs": [
    {
     "data": {
      "text/plain": [
       "['Tempranillo Blend']"
      ]
     },
     "execution_count": 10,
     "metadata": {},
     "output_type": "execute_result"
    }
   ],
   "source": [
    "#q8\n",
    "isAnagram('Banned Petrol Mill')"
   ]
  },
  {
   "cell_type": "code",
   "execution_count": 11,
   "metadata": {},
   "outputs": [],
   "source": [
    "#highestRated\n",
    "def highestRated(country):\n",
    "    rating = 0\n",
    "    highest_rating = []\n",
    "    for i in range(len(csv_data)):\n",
    "        points = int(csv_data[i][1])\n",
    "        if csv_data[i][0] == country:\n",
    "            if rating < points:\n",
    "                rating = points\n",
    "            if rating == points:\n",
    "                highest_rating.append(csv_data[i][3])\n",
    "    return highest_rating\n",
    "            "
   ]
  },
  {
   "cell_type": "code",
   "execution_count": 12,
   "metadata": {},
   "outputs": [
    {
     "data": {
      "text/plain": [
       "['Cabernet Sauvignon', 'Sauvignon Blanc', 'Pinot Noir']"
      ]
     },
     "execution_count": 12,
     "metadata": {},
     "output_type": "execute_result"
    }
   ],
   "source": [
    "#q9\n",
    "highestRated(\"US\")"
   ]
  },
  {
   "cell_type": "code",
   "execution_count": 13,
   "metadata": {},
   "outputs": [
    {
     "data": {
      "text/plain": [
       "['Tinta de Toro']"
      ]
     },
     "execution_count": 13,
     "metadata": {},
     "output_type": "execute_result"
    }
   ],
   "source": [
    "#q10\n",
    "highestRated(\"Spain\")"
   ]
  },
  {
   "cell_type": "code",
   "execution_count": 14,
   "metadata": {},
   "outputs": [],
   "source": [
    "#ppdFunction\n",
    "\n",
    "def ppdRatio(winery):\n",
    "    currAverage = 0\n",
    "    ppdRatio = 0\n",
    "    count = 0\n",
    "    for i in range(len(csv_data)):\n",
    "        if winery == csv_data[i][4]:\n",
    "            points = int(csv_data[i][1])\n",
    "            price = float(csv_data[i][2])\n",
    "            currAverage = points/price\n",
    "            ppdRatio +=currAverage\n",
    "            count = count + 1\n",
    "    return ppdRatio/count"
   ]
  },
  {
   "cell_type": "code",
   "execution_count": 15,
   "metadata": {},
   "outputs": [
    {
     "data": {
      "text/plain": [
       "2.183421985815603"
      ]
     },
     "execution_count": 15,
     "metadata": {},
     "output_type": "execute_result"
    }
   ],
   "source": [
    "#q11\n",
    "ppdRatio(\"Heitz\")"
   ]
  },
  {
   "cell_type": "code",
   "execution_count": 16,
   "metadata": {},
   "outputs": [
    {
     "data": {
      "text/plain": [
       "1.288074888074888"
      ]
     },
     "execution_count": 16,
     "metadata": {},
     "output_type": "execute_result"
    }
   ],
   "source": [
    "#q12\n",
    "ppdRatio(\"Ponzi\")"
   ]
  },
  {
   "cell_type": "code",
   "execution_count": 17,
   "metadata": {},
   "outputs": [],
   "source": [
    "#highestAveragePPD\n",
    "\n",
    "def highestAverage(country):\n",
    "    highestPPD = 0\n",
    "    winery = ''\n",
    "    for i in range(len(csv_data)):\n",
    "        if country == csv_data[i][0]:\n",
    "            if highestPPD < ppdRatio(csv_data[i][4]):\n",
    "                highestPPD = ppdRatio(csv_data[i][4])\n",
    "                winery = csv_data[i][4]\n",
    "    return winery\n",
    "    "
   ]
  },
  {
   "cell_type": "code",
   "execution_count": 18,
   "metadata": {},
   "outputs": [
    {
     "data": {
      "text/plain": [
       "'Spy Valley'"
      ]
     },
     "execution_count": 18,
     "metadata": {},
     "output_type": "execute_result"
    }
   ],
   "source": [
    "#q13\n",
    "highestAverage(\"New Zealand\")"
   ]
  },
  {
   "cell_type": "code",
   "execution_count": 19,
   "metadata": {},
   "outputs": [
    {
     "data": {
      "text/plain": [
       "'Riposte'"
      ]
     },
     "execution_count": 19,
     "metadata": {},
     "output_type": "execute_result"
    }
   ],
   "source": [
    "#q14\n",
    "highestAverage(\"Australia\")"
   ]
  },
  {
   "cell_type": "code",
   "execution_count": 20,
   "metadata": {},
   "outputs": [
    {
     "data": {
      "text/plain": [
       "'Cave Spring'"
      ]
     },
     "execution_count": 20,
     "metadata": {},
     "output_type": "execute_result"
    }
   ],
   "source": [
    "#q15\n",
    "highestAverage(\"Canada\")"
   ]
  },
  {
   "cell_type": "code",
   "execution_count": 21,
   "metadata": {},
   "outputs": [],
   "source": [
    "#varietyFunction\n",
    "\n",
    "def varieties(winery):\n",
    "    varieties = []\n",
    "    for i in range(len(csv_data)):\n",
    "        if winery in csv_data[i][4]:\n",
    "            if csv_data[i][3] not in varieties:\n",
    "                varieties.append(csv_data[i][3])\n",
    "    return varieties"
   ]
  },
  {
   "cell_type": "code",
   "execution_count": 22,
   "metadata": {},
   "outputs": [
    {
     "data": {
      "text/plain": [
       "['Portuguese White', 'Portuguese Rosé', 'Portuguese Red']"
      ]
     },
     "execution_count": 22,
     "metadata": {},
     "output_type": "execute_result"
    }
   ],
   "source": [
    "#q16\n",
    "varieties(\"Quinta Nova de Nossa Senhora do Carmo\")"
   ]
  },
  {
   "cell_type": "code",
   "execution_count": 23,
   "metadata": {},
   "outputs": [
    {
     "data": {
      "text/plain": [
       "['Portuguese Red', 'Portuguese White']"
      ]
     },
     "execution_count": 23,
     "metadata": {},
     "output_type": "execute_result"
    }
   ],
   "source": [
    "#q17\n",
    "varieties('Adega Cooperativa de Borba')"
   ]
  },
  {
   "cell_type": "code",
   "execution_count": 24,
   "metadata": {},
   "outputs": [
    {
     "data": {
      "text/plain": [
       "['Touriga Nacional', 'Portuguese Sparkling', 'Portuguese Red']"
      ]
     },
     "execution_count": 24,
     "metadata": {},
     "output_type": "execute_result"
    }
   ],
   "source": [
    "#q18\n",
    "varieties(\"Global Wines\")"
   ]
  },
  {
   "cell_type": "code",
   "execution_count": 25,
   "metadata": {},
   "outputs": [
    {
     "data": {
      "text/plain": [
       "66.66666666666666"
      ]
     },
     "execution_count": 25,
     "metadata": {},
     "output_type": "execute_result"
    }
   ],
   "source": [
    "#q19\n",
    "notIn = 0\n",
    "percentage = 0\n",
    "amountIn = 0\n",
    "winery1 = varieties(\"Quinta Nova de Nossa Senhora do Carmo\")\n",
    "winery2 = varieties('Adega Cooperativa de Borba')\n",
    "for i in range(len(winery1)):\n",
    "    if winery1[i] not in winery2:\n",
    "        notIn += 1\n",
    "amountIn = len(winery1) - notIn\n",
    "percentage = (amountIn / len(winery1)) * 100\n",
    "percentage "
   ]
  },
  {
   "cell_type": "code",
   "execution_count": 26,
   "metadata": {},
   "outputs": [
    {
     "data": {
      "text/plain": [
       "33.33333333333333"
      ]
     },
     "execution_count": 26,
     "metadata": {},
     "output_type": "execute_result"
    }
   ],
   "source": [
    "#q20\n",
    "notIn = 0\n",
    "percentage = 0\n",
    "amountIn = 0\n",
    "winery1 = varieties(\"Quinta Nova de Nossa Senhora do Carmo\")\n",
    "winery2 = varieties('Global Wines')\n",
    "for i in range(len(winery1)):\n",
    "    if winery1[i] not in winery2:\n",
    "        notIn += 1\n",
    "amountIn = len(winery1) - notIn\n",
    "percentage = (amountIn / len(winery1)) * 100\n",
    "percentage "
   ]
  },
  {
   "cell_type": "code",
   "execution_count": null,
   "metadata": {},
   "outputs": [],
   "source": []
  }
 ],
 "metadata": {
  "kernelspec": {
   "display_name": "Python 3",
   "language": "python",
   "name": "python3"
  },
  "language_info": {
   "codemirror_mode": {
    "name": "ipython",
    "version": 3
   },
   "file_extension": ".py",
   "mimetype": "text/x-python",
   "name": "python",
   "nbconvert_exporter": "python",
   "pygments_lexer": "ipython3",
   "version": "3.7.2"
  }
 },
 "nbformat": 4,
 "nbformat_minor": 2
}
