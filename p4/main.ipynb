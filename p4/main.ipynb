{
 "cells": [
  {
   "cell_type": "code",
   "execution_count": 1,
   "metadata": {},
   "outputs": [
    {
     "ename": "SyntaxError",
     "evalue": "invalid syntax (<ipython-input-1-9e7f74236e01>, line 9)",
     "output_type": "error",
     "traceback": [
      "\u001b[1;36m  File \u001b[1;32m\"<ipython-input-1-9e7f74236e01>\"\u001b[1;36m, line \u001b[1;32m9\u001b[0m\n\u001b[1;33m    while i<(int)tries:\u001b[0m\n\u001b[1;37m                     ^\u001b[0m\n\u001b[1;31mSyntaxError\u001b[0m\u001b[1;31m:\u001b[0m invalid syntax\n"
     ]
    }
   ],
   "source": [
    "tries = input(\"How many tries do you want for each question: \")\n",
    "\n",
    "#functionforquestion\n",
    "def askQuestion(question , answer ):\n",
    "    answer=str.strip(answer)\n",
    "    answer=str.lower(answer)\n",
    "    correct = \"\\nCongratulations! You got it right.\"\n",
    "    i=0\n",
    "    while i<(int)tries:\n",
    "        if question == 1: #q1\n",
    "            print(\"What is the type of the following? \" + '\"1.0\" + ' + '\"2.0\"' )\n",
    "            print(\"a) int \\n\" + \"b) float \\n\" + \"c) str \\n\"+ \"d) bool \\n\" + \"e) NoneType \\n\") \n",
    "            print(\"Your answer: \" +answer)\n",
    "\n",
    "            if user==answer:\n",
    "                print(\"\\n\"+correct)\n",
    "\n",
    "            else:\n",
    "                print(\"Sorry your answer was incorrect\")\n",
    "            \n",
    "        if question == 2: #q2\n",
    "            answer = str(input(\"\\nWhat is the type of the following?\" + ' \"1\" *'+ \" 2\\n\"))\n",
    "            print(\"Your answer: \" + answer)\n",
    "\n",
    "            if answer == \"str\":\n",
    "                print(correct)\n",
    "    \n",
    "        if question == 3:\n",
    "            print(\"What does this expression evaluate to? \\n\"+ \"True != (3 < 2)\")\n",
    "        i = i + 1\n",
    "askQuestion(2,\"c\")\n"
   ]
  },
  {
   "cell_type": "code",
   "execution_count": null,
   "metadata": {},
   "outputs": [],
   "source": []
  }
 ],
 "metadata": {
  "kernelspec": {
   "display_name": "Python 3",
   "language": "python",
   "name": "python3"
  },
  "language_info": {
   "codemirror_mode": {
    "name": "ipython",
    "version": 3
   },
   "file_extension": ".py",
   "mimetype": "text/x-python",
   "name": "python",
   "nbconvert_exporter": "python",
   "pygments_lexer": "ipython3",
   "version": "3.7.2"
  }
 },
 "nbformat": 4,
 "nbformat_minor": 2
}
