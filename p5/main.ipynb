{
 "cells": [
  {
   "cell_type": "code",
   "execution_count": 1,
   "metadata": {},
   "outputs": [
    {
     "data": {
      "text/plain": [
       "111"
      ]
     },
     "execution_count": 1,
     "metadata": {},
     "output_type": "execute_result"
    }
   ],
   "source": [
    "# project: p5\n",
    "# submitter-netid: shizmi\n",
    "# partner-netid: abartelson\n",
    "#q1\n",
    "import project\n",
    "project.count()"
   ]
  },
  {
   "cell_type": "code",
   "execution_count": 2,
   "metadata": {},
   "outputs": [
    {
     "data": {
      "text/plain": [
       "'Baker'"
      ]
     },
     "execution_count": 2,
     "metadata": {},
     "output_type": "execute_result"
    }
   ],
   "source": [
    "#q2\n",
    "project.get_name(0)"
   ]
  },
  {
   "cell_type": "code",
   "execution_count": 3,
   "metadata": {},
   "outputs": [
    {
     "data": {
      "text/plain": [
       "1"
      ]
     },
     "execution_count": 3,
     "metadata": {},
     "output_type": "execute_result"
    }
   ],
   "source": [
    "#q3\n",
    "project.get_deaths(110)"
   ]
  },
  {
   "cell_type": "code",
   "execution_count": 4,
   "metadata": {},
   "outputs": [],
   "source": [
    "#functionToConvert K, M, B\n",
    "def convert(idx):\n",
    "    suffix = project.get_damage(idx)\n",
    "    if \"B\" in suffix:\n",
    "        suffix = suffix[:-1]\n",
    "        return float(suffix)*1000000000\n",
    "    elif \"M\" in suffix:\n",
    "        suffix = suffix[:-1]\n",
    "        return float(suffix)*1000000\n",
    "    elif \"K\" in suffix:\n",
    "        suffix = suffix[:-1]\n",
    "        return float(suffix)*1000\n",
    "    else:\n",
    "        return suffix"
   ]
  },
  {
   "cell_type": "code",
   "execution_count": 5,
   "metadata": {},
   "outputs": [
    {
     "data": {
      "text/plain": [
       "1430000000.0"
      ]
     },
     "execution_count": 5,
     "metadata": {},
     "output_type": "execute_result"
    }
   ],
   "source": [
    "#q4\n",
    "convert(1)"
   ]
  },
  {
   "cell_type": "code",
   "execution_count": 6,
   "metadata": {},
   "outputs": [
    {
     "data": {
      "text/plain": [
       "True"
      ]
     },
     "execution_count": 6,
     "metadata": {},
     "output_type": "execute_result"
    }
   ],
   "source": [
    "#q5\n",
    "def find(name):\n",
    "    for i in range(project.count()):\n",
    "         if project.get_name(i).strip().lower() == name.strip().lower():\n",
    "                return True\n",
    "                break\n",
    "find(\"Flossy\")"
   ]
  },
  {
   "cell_type": "code",
   "execution_count": 7,
   "metadata": {},
   "outputs": [
    {
     "data": {
      "text/plain": [
       "2"
      ]
     },
     "execution_count": 7,
     "metadata": {},
     "output_type": "execute_result"
    }
   ],
   "source": [
    "#q6\n",
    "i = 0\n",
    "for idx in range(project.count()):\n",
    "    if project.get_name(idx).strip().lower() == \"floyd\":\n",
    "        i += 1\n",
    "i"
   ]
  },
  {
   "cell_type": "code",
   "execution_count": 8,
   "metadata": {},
   "outputs": [
    {
     "data": {
      "text/plain": [
       "13129"
      ]
     },
     "execution_count": 8,
     "metadata": {},
     "output_type": "execute_result"
    }
   ],
   "source": [
    "#q7\n",
    "deathCount = 0\n",
    "for idx in range(project.count()):\n",
    "    deathCount += project.get_deaths(idx)\n",
    "deathCount"
   ]
  },
  {
   "cell_type": "code",
   "execution_count": 9,
   "metadata": {
    "scrolled": false
   },
   "outputs": [
    {
     "data": {
      "text/plain": [
       "792890014998"
      ]
     },
     "execution_count": 9,
     "metadata": {},
     "output_type": "execute_result"
    }
   ],
   "source": [
    "#q8\n",
    "totalCost = 0\n",
    "for n in range(project.count()):\n",
    "    totalCost += int(convert(n))\n",
    "    n+=1\n",
    "totalCost"
   ]
  },
  {
   "cell_type": "code",
   "execution_count": 10,
   "metadata": {},
   "outputs": [
    {
     "data": {
      "text/plain": [
       "190"
      ]
     },
     "execution_count": 10,
     "metadata": {},
     "output_type": "execute_result"
    }
   ],
   "source": [
    "#q9\n",
    "fastest = 0\n",
    "for n in range(project.count()):\n",
    "    if project.get_mph(n) > fastest:\n",
    "        fastest = project.get_mph(n)\n",
    "fastest"
   ]
  },
  {
   "cell_type": "code",
   "execution_count": 11,
   "metadata": {},
   "outputs": [
    {
     "data": {
      "text/plain": [
       "'Allen'"
      ]
     },
     "execution_count": 11,
     "metadata": {},
     "output_type": "execute_result"
    }
   ],
   "source": [
    "#q10\n",
    "fastestName = \" \"\n",
    "for i in range(project.count()):\n",
    "    if project.get_mph(i) == 190:\n",
    "        fastestName = project.get_name(i)\n",
    "fastestName"
   ]
  },
  {
   "cell_type": "code",
   "execution_count": 12,
   "metadata": {},
   "outputs": [
    {
     "data": {
      "text/plain": [
       "1980"
      ]
     },
     "execution_count": 12,
     "metadata": {},
     "output_type": "execute_result"
    }
   ],
   "source": [
    "#q11\n",
    "fastestYear = 0\n",
    "for i in range(project.count()):\n",
    "    if project.get_mph(i) == 190:\n",
    "        fastestYear = project.get_year(i)\n",
    "fastestYear"
   ]
  },
  {
   "cell_type": "code",
   "execution_count": 13,
   "metadata": {},
   "outputs": [
    {
     "data": {
      "text/plain": [
       "75"
      ]
     },
     "execution_count": 13,
     "metadata": {},
     "output_type": "execute_result"
    }
   ],
   "source": [
    "#q12\n",
    "slowest = 10000\n",
    "for n in range(project.count()):\n",
    "    if project.get_mph(n) < slowest:\n",
    "        slowest = project.get_mph(n)\n",
    "slowest"
   ]
  },
  {
   "cell_type": "code",
   "execution_count": 14,
   "metadata": {},
   "outputs": [
    {
     "data": {
      "text/plain": [
       "'Maria'"
      ]
     },
     "execution_count": 14,
     "metadata": {},
     "output_type": "execute_result"
    }
   ],
   "source": [
    "#q13\n",
    "deadliest = 0\n",
    "name = \" \"\n",
    "for n in range(project.count()):\n",
    "    if project.get_deaths(n) > deadliest:\n",
    "        deadliest = project.get_deaths(n)\n",
    "        name = project.get_name(n)\n",
    "name"
   ]
  },
  {
   "cell_type": "code",
   "execution_count": 15,
   "metadata": {},
   "outputs": [
    {
     "data": {
      "text/plain": [
       "'Jeanne'"
      ]
     },
     "execution_count": 15,
     "metadata": {},
     "output_type": "execute_result"
    }
   ],
   "source": [
    "#q14\n",
    "deadliestBefore = 0\n",
    "name = \"\"\n",
    "for n in range(project.count()):\n",
    "    if project.get_deaths(n) > deadliestBefore and project.get_year(n) <= 2016:\n",
    "        deadliestBefore = project.get_deaths(n)\n",
    "        name = project.get_name(n)\n",
    "name"
   ]
  },
  {
   "cell_type": "code",
   "execution_count": 16,
   "metadata": {},
   "outputs": [
    {
     "data": {
      "text/plain": [
       "'Katrina'"
      ]
     },
     "execution_count": 16,
     "metadata": {},
     "output_type": "execute_result"
    }
   ],
   "source": [
    "#q15\n",
    "deadliestYear = 0\n",
    "name = \"\"\n",
    "for n in range(project.count()):\n",
    "    if project.get_year(n) <= 2016 and project.get_year(n) >= 2005:\n",
    "        if deadliestYear < project.get_deaths(n):\n",
    "            deadliestYear = project.get_deaths(n)\n",
    "            name = project.get_name(n)\n",
    "name"
   ]
  },
  {
   "cell_type": "code",
   "execution_count": 17,
   "metadata": {},
   "outputs": [],
   "source": [
    "#function\n",
    "def decade_deaths(decade):\n",
    "    deaths = 0\n",
    "    for n in range(project.count()):\n",
    "        if project.get_year(n) >= decade and project.get_year(n) < decade + 10:\n",
    "            deaths += project.get_deaths(n)\n",
    "    return deaths"
   ]
  },
  {
   "cell_type": "code",
   "execution_count": 18,
   "metadata": {},
   "outputs": [
    {
     "data": {
      "text/plain": [
       "4452"
      ]
     },
     "execution_count": 18,
     "metadata": {},
     "output_type": "execute_result"
    }
   ],
   "source": [
    "#q16\n",
    "decade_deaths(2010)\n"
   ]
  },
  {
   "cell_type": "code",
   "execution_count": 19,
   "metadata": {},
   "outputs": [
    {
     "data": {
      "text/plain": [
       "5580"
      ]
     },
     "execution_count": 19,
     "metadata": {},
     "output_type": "execute_result"
    }
   ],
   "source": [
    "#q17\n",
    "decade_deaths(2000)"
   ]
  },
  {
   "cell_type": "code",
   "execution_count": 20,
   "metadata": {},
   "outputs": [
    {
     "data": {
      "text/plain": [
       "996"
      ]
     },
     "execution_count": 20,
     "metadata": {},
     "output_type": "execute_result"
    }
   ],
   "source": [
    "#q18\n",
    "decade_deaths(1990)"
   ]
  },
  {
   "cell_type": "code",
   "execution_count": 21,
   "metadata": {},
   "outputs": [
    {
     "data": {
      "text/plain": [
       "483"
      ]
     },
     "execution_count": 21,
     "metadata": {},
     "output_type": "execute_result"
    }
   ],
   "source": [
    "#q19\n",
    "decade_deaths(1980)"
   ]
  },
  {
   "cell_type": "code",
   "execution_count": 22,
   "metadata": {},
   "outputs": [
    {
     "data": {
      "text/plain": [
       "2000"
      ]
     },
     "execution_count": 22,
     "metadata": {},
     "output_type": "execute_result"
    }
   ],
   "source": [
    "#q20\n",
    "deadliestDecade = 0\n",
    "year = 0\n",
    "for n in range(project.count()):\n",
    "    if project.get_year(n)%10 == 0:\n",
    "        if deadliestDecade < project.get_deaths(n):\n",
    "            deadliestDecade = decade_deaths(project.get_deaths(n))\n",
    "            year = project.get_year(n) + 10\n",
    "    n+=1\n",
    "year"
   ]
  },
  {
   "cell_type": "code",
   "execution_count": null,
   "metadata": {},
   "outputs": [],
   "source": []
  }
 ],
 "metadata": {
  "kernelspec": {
   "display_name": "Python 3",
   "language": "python",
   "name": "python3"
  },
  "language_info": {
   "codemirror_mode": {
    "name": "ipython",
    "version": 3
   },
   "file_extension": ".py",
   "mimetype": "text/x-python",
   "name": "python",
   "nbconvert_exporter": "python",
   "pygments_lexer": "ipython3",
   "version": "3.7.2"
  }
 },
 "nbformat": 4,
 "nbformat_minor": 2
}
